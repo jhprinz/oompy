{
 "cells": [
  {
   "cell_type": "code",
   "execution_count": 2,
   "metadata": {
    "collapsed": false
   },
   "outputs": [
    {
     "name": "stdout",
     "output_type": "stream",
     "text": [
      "The autoreload extension is already loaded. To reload it, use:\n",
      "  %reload_ext autoreload\n",
      "Populating the interactive namespace from numpy and matplotlib\n"
     ]
    },
    {
     "name": "stderr",
     "output_type": "stream",
     "text": [
      "WARNING: pylab import has clobbered these variables: ['sqrt', 'linalg']\n",
      "`%matplotlib` prevents importing * from pylab and numpy\n"
     ]
    }
   ],
   "source": [
    "%load_ext autoreload\n",
    "%autoreload\n",
    "\n",
    "import time\n",
    "\n",
    "import numpy as np\n",
    "from scipy import linalg\n",
    "import scipy.stats\n",
    "from scipy import pi,sqrt,exp\n",
    "from scipy.special import erf\n",
    "\n",
    "import approximate_diffusion_models\n",
    "from empirical_estimation import EmpiricalEstimator\n",
    "from oom_estimation import OOMEstimator\n",
    "from msm_estimation import MSMEstimator\n",
    "\n",
    "%pylab inline\n",
    "rcParams.update({'figure.autolayout': True})"
   ]
  },
  {
   "cell_type": "code",
   "execution_count": 3,
   "metadata": {
    "collapsed": false
   },
   "outputs": [
    {
     "data": {
      "text/plain": [
       "<matplotlib.text.Text at 0xaeef320>"
      ]
     },
     "execution_count": 3,
     "metadata": {},
     "output_type": "execute_result"
    },
    {
     "name": "stderr",
     "output_type": "stream",
     "text": [
      "D:\\Anaconda2\\lib\\site-packages\\matplotlib\\figure.py:1744: UserWarning: This figure includes Axes that are not compatible with tight_layout, so its results might be incorrect.\n",
      "  warnings.warn(\"This figure includes Axes that are not \"\n"
     ]
    },
    {
     "data": {
      "image/png": "[encoded data removed]",
      "text/plain": [
       "<matplotlib.figure.Figure at 0x984e5f8>"
      ]
     },
     "metadata": {},
     "output_type": "display_data"
    }
   ],
   "source": [
    "#define the potential and temperature\n",
    "\n",
    "def pdf(x):\n",
    "    return 1/sqrt(2*pi) * exp(-x**2/2)\n",
    "\n",
    "def cdf(x):\n",
    "    return (1 + erf(x/sqrt(2))) / 2\n",
    "\n",
    "def skew(x,e=0,w=1,a=0):\n",
    "    t = (x-e) / w\n",
    "    return 2 / w * pdf(t) * cdf(a*t)\n",
    "\n",
    "def potential_function(x):\n",
    "    return -2*log(skew(x,a=4))\n",
    "\n",
    "beta=2.\n",
    "\n",
    "f,(ax1,ax2)=subplots(2)\n",
    "\n",
    "xx=np.linspace(-1,3,100)\n",
    "vv=np.empty(xx.shape)\n",
    "for i in range(xx.shape[0]):\n",
    "    vv[i]=potential_function(xx[i])\n",
    "ax1.plot(xx,vv)\n",
    "ax1.set_xlabel('x',fontsize=20)\n",
    "ax1.set_ylabel('potential',fontsize=10)\n",
    "ax2.plot(xx,exp(-beta*vv))\n",
    "ax2.set_xlabel('x',fontsize=20)\n",
    "ax2.set_ylabel('stationary distribution',fontsize=10)"
   ]
  },
  {
   "cell_type": "code",
   "execution_count": 4,
   "metadata": {
    "collapsed": true
   },
   "outputs": [],
   "source": [
    "#define the simulation model\n",
    "lb=-1.\n",
    "ub=3.\n",
    "grid_num=100\n",
    "delta_t=0.01\n",
    "diffusion_model=approximate_diffusion_models.OneDimensionalModel(potential_function,beta,lb,ub,grid_num,delta_t)"
   ]
  },
  {
   "cell_type": "code",
   "execution_count": 5,
   "metadata": {
    "collapsed": false
   },
   "outputs": [
    {
     "name": "stdout",
     "output_type": "stream",
     "text": [
      "{'C1': 0.36674378132018592, 'C0': 0.47169616209274823, 'u': 0.53401006655541661}\n"
     ]
    }
   ],
   "source": [
    "#calculate true quantities of u: E[y_t], C0: E[y_t**2], C1: E[y_t*y_(t+0.01)]\n",
    "noise_Sigma2=0.1 #0.01\n",
    "lags_for_C=[0,1]\n",
    "\n",
    "u=diffusion_model.expectation()\n",
    "tmp_C=diffusion_model.correlation_with_noise(lags_for_C,noise_Sigma2)[0]\n",
    "C0=tmp_C[0]\n",
    "C1=tmp_C[1]\n",
    "\n",
    "true_result={'u':u,'C0':C0,'C1':C1}\n",
    "print true_result"
   ]
  },
  {
   "cell_type": "code",
   "execution_count": 6,
   "metadata": {
    "collapsed": false
   },
   "outputs": [
    {
     "name": "stdout",
     "output_type": "stream",
     "text": [
      " k: 0 4.95472857715 seconds\n",
      " k: 1 5.00483788527 seconds\n",
      " k: 2 4.59394402192 seconds\n",
      " k: 3 4.59345136558 seconds\n",
      " k: 4 4.58345988443 seconds\n",
      " k: 5 4.61196251706 seconds\n",
      " k: 6 4.56461085281 seconds\n",
      " k: 7 4.64307663885 seconds\n",
      " k: 8 4.60146606316 seconds\n",
      " k: 9 4.6901930597 seconds\n",
      " k: 10 4.97474561485 seconds\n",
      " k: 11 4.90311748827 seconds\n",
      " k: 12 5.17532366495 seconds\n",
      " k: 13 4.70695528117 seconds\n",
      " k: 14 4.69117796184 seconds\n",
      " k: 15 4.66445874516 seconds\n",
      " k: 16 4.64156007841 seconds\n",
      " k: 17 4.62570147078 seconds\n",
      " k: 18 4.6518167729 seconds\n",
      " k: 19 4.68311810409 seconds\n"
     ]
    }
   ],
   "source": [
    "#perform simulations and estimations\n",
    "\n",
    "start_position=ub #all simulations start from ub=3\n",
    "traj_length=100 #the simulation length of each trajectory\n",
    "traj_num=1000 #the number of trajectories\n",
    "run_num=20 #independently repeat run_num times of simulations and estimations\n",
    "\n",
    "empirical_result={'u_mem':np.empty(run_num),'C0_mem':np.empty(run_num),'C1_mem':np.empty(run_num)}\n",
    "msm_result={'u_mem':np.empty(run_num),'C0_mem':np.empty(run_num),'C1_mem':np.empty(run_num)}\n",
    "oom_result={'u_mem':np.empty(run_num),'C0_mem':np.empty(run_num),'C1_mem':np.empty(run_num)}\n",
    "\n",
    "msm=MSMEstimator()\n",
    "oom=OOMEstimator()\n",
    "\n",
    "for k in range(run_num):\n",
    "\n",
    "    start_time=time.clock()\n",
    "\n",
    "    trajs=[diffusion_model.simulate_with_noise(traj_length,noise_Sigma2,x_0=start_position) for _ in range(traj_num)]\n",
    "\n",
    "    empirical_estimator=EmpiricalEstimator(trajs)\n",
    "    u=empirical_estimator.expectation()\n",
    "    tmp_C=empirical_estimator.correlation(np.array(lags_for_C))[0]\n",
    "    empirical_result['u_mem'][k]=u[0]\n",
    "    empirical_result['C0_mem'][k]=tmp_C[0,0,0]\n",
    "    empirical_result['C1_mem'][k]=tmp_C[1,0,0]\n",
    "\n",
    "    oom.estimate(trajs,trajs)        \n",
    "    u=oom.expectation()\n",
    "    tmp_C=oom.correlation(np.array(lags_for_C))[0]\n",
    "    oom_result['u_mem'][k]=u[0]\n",
    "    oom_result['C0_mem'][k]=tmp_C[0,0,0]\n",
    "    oom_result['C1_mem'][k]=tmp_C[1,0,0]\n",
    "\n",
    "    msm.estimate(trajs,trajs,0.01)       \n",
    "    u=msm.expectation()\n",
    "    tmp_C=msm.correlation(np.array(lags_for_C))[0]\n",
    "    msm_result['u_mem'][k]=u[0]\n",
    "    msm_result['C0_mem'][k]=tmp_C[0,0,0]\n",
    "    msm_result['C1_mem'][k]=tmp_C[1,0,0]\n",
    "\n",
    "    print \" k:\", k, time.clock()-start_time, \"seconds\"\n",
    "\n",
    "#print empirical_result\n",
    "#print msm_result\n",
    "#print oom_result\n",
    "#print true_result"
   ]
  },
  {
   "cell_type": "code",
   "execution_count": 7,
   "metadata": {
    "collapsed": false
   },
   "outputs": [
    {
     "data": {
      "image/png": "[encoded data removed]",
      "text/plain": [
       "<matplotlib.figure.Figure at 0x984e0b8>"
      ]
     },
     "metadata": {},
     "output_type": "display_data"
    }
   ],
   "source": [
    "#plot the estimation results\n",
    "\n",
    "n_groups = 3\n",
    "\n",
    "means_true=(true_result['u'],true_result['C0'],true_result['C1'])\n",
    "\n",
    "means_empirical=(np.mean(empirical_result['u_mem']),np.mean(empirical_result['C0_mem']),np.mean(empirical_result['C1_mem']))\n",
    "std_empirical=(np.std(empirical_result['u_mem']),np.std(empirical_result['C0_mem']),np.std(empirical_result['C1_mem']))\n",
    "means_msm=(np.mean(msm_result['u_mem']),np.mean(msm_result['C0_mem']),np.mean(msm_result['C1_mem']))\n",
    "std_msm=(np.std(msm_result['u_mem']),np.std(msm_result['C0_mem']),np.std(msm_result['C1_mem']))\n",
    "means_oom=(np.mean(oom_result['u_mem']),np.mean(oom_result['C0_mem']),np.mean(oom_result['C1_mem']))\n",
    "std_oom=(np.std(oom_result['u_mem']),np.std(oom_result['C0_mem']),np.std(oom_result['C1_mem']))\n",
    "\n",
    "index = np.arange(n_groups)\n",
    "bar_width = 0.2\n",
    "\n",
    "opacity = 0.4\n",
    "error_config = {'ecolor': '0.3'}\n",
    "\n",
    "rects0 = bar(index, means_true, bar_width,\n",
    "                 alpha=opacity,\n",
    "                 color='k',\n",
    "                 error_kw=error_config,\n",
    "                 label='True')\n",
    "\n",
    "rects1 = bar(index + 2*bar_width, means_empirical, bar_width,\n",
    "                 alpha=opacity,\n",
    "                 color='b',\n",
    "                 yerr=std_empirical,\n",
    "                 error_kw=error_config,\n",
    "                 label='Empirical')\n",
    "\n",
    "rects2 = bar(index + 3*bar_width, means_msm, bar_width,\n",
    "                 alpha=opacity,\n",
    "                 color='g',\n",
    "                 yerr=std_msm,\n",
    "                 error_kw=error_config,\n",
    "                 label='MSM')\n",
    "\n",
    "rects3 = bar(index + bar_width, means_oom, bar_width,\n",
    "                 alpha=opacity,\n",
    "                 color='r',\n",
    "                 yerr=std_oom,\n",
    "                 error_kw=error_config,\n",
    "                 label='OOM')\n",
    "\n",
    "xlabel('Quantity')\n",
    "ylabel('Estimate')\n",
    "xticks(index + bar_width, (r'$\\mathrm{\\mathbb{E}}[y_t]$', r'$\\mathrm{\\mathbb{E}}[y_t^2]$', r'$\\mathrm{\\mathbb{E}}[y_t y_{t+0.01}]$'),fontsize=15)\n",
    "legend(loc='upper left')\n",
    "\n",
    "plt.tight_layout()\n",
    "plt.show()"
   ]
  }
 ],
 "metadata": {
  "kernelspec": {
   "display_name": "Python 2",
   "language": "python",
   "name": "python2"
  },
  "language_info": {
   "codemirror_mode": {
    "name": "ipython",
    "version": 2
   },
   "file_extension": ".py",
   "mimetype": "text/x-python",
   "name": "python",
   "nbconvert_exporter": "python",
   "pygments_lexer": "ipython2",
   "version": "2.7.11"
  }
 },
 "nbformat": 4,
 "nbformat_minor": 0
}
